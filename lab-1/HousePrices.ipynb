{
  "cells": [
    {
      "cell_type": "markdown",
      "metadata": {
        "colab_type": "text",
        "id": "view-in-github"
      },
      "source": [
        "<a href=\"https://colab.research.google.com/github/KruglovIlya/AI-labs/blob/main/lab-1/HousePrices.ipynb\" target=\"_parent\"><img src=\"https://colab.research.google.com/assets/colab-badge.svg\" alt=\"Open In Colab\"/></a>"
      ]
    },
    {
      "cell_type": "markdown",
      "metadata": {
        "id": "mw2VBrBcgvGa"
      },
      "source": [
        "###В этом упражнении вы построите нейронную сеть, которая предсказывает цену дома по простой формуле.\n",
        "\n",
        "Представьте себе, что цены на жилье зависят только от количества комнат: дом стоит 500 000 + 500 000 за комнату. то есть дом с 1 спальней стоит 1 000 000, дом с 2 спальнями стоит 1 500 000 и т.д.\n",
        "\n",
        "Как вы создадите нейронную сеть, которая обучается этой зависисмости? проверьте ее, чтобы она предсказывала для дома с 7 спальнями стоимость около 4 млн.\n",
        "\n",
        "**Подсказка**: ваша сеть может работать лучше, если вы *масштабируете* цену так, как это было описано в лекциях. Не нужно давать ответ 4 000 000, лучше создать что-то, что будет предсказывать число 4 и выводить ваш ответ в миллионах."
      ]
    },
    {
      "cell_type": "code",
      "execution_count": null,
      "metadata": {
        "id": "moHyJyr4P0OO"
      },
      "outputs": [],
      "source": [
        "import tensorflow as tf\n",
        "import numpy as np\n",
        "from tensorflow import keras"
      ]
    },
    {
      "cell_type": "code",
      "execution_count": null,
      "metadata": {
        "id": "PUNO2E6SeURH"
      },
      "outputs": [],
      "source": [
        "# GRADED FUNCTION: house_model\n",
        "def house_model(y_new):\n",
        "    xs = [2.0, 3.0, 5.0, 7.0, 9.0]\n",
        "    ys = [1.5, 2.0, 3.0, 4.0, 5.0]\n",
        "    model = keras.Sequential([keras.layers.Dense(units=1, input_shape=[1])])\n",
        "    model.compile(optimizer = 'sgd', loss=\"mean_squared_error\")\n",
        "    model.fit(xs, ys, epochs = 200)\n",
        "    return model.predict(y_new)[0] * 1000000"
      ]
    },
    {
      "cell_type": "code",
      "execution_count": null,
      "metadata": {
        "id": "LDe5PlKCP0OQ"
      },
      "outputs": [],
      "source": [
        "prediction = house_model([7.0])\n",
        "print(prediction)"
      ]
    }
  ],
  "metadata": {
    "colab": {
      "include_colab_link": true,
      "name": "HousePrices.ipynb",
      "provenance": []
    },
    "coursera": {
      "course_slug": "introduction-tensorflow",
      "graded_item_id": "jRjw8",
      "launcher_item_id": "YoQKl"
    },
    "kernelspec": {
      "display_name": "Python 3",
      "language": "python",
      "name": "python3"
    },
    "language_info": {
      "codemirror_mode": {
        "name": "ipython",
        "version": 3
      },
      "file_extension": ".py",
      "mimetype": "text/x-python",
      "name": "python",
      "nbconvert_exporter": "python",
      "pygments_lexer": "ipython3",
      "version": "3.6.8"
    }
  },
  "nbformat": 4,
  "nbformat_minor": 0
}
